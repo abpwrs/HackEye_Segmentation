{
 "cells": [
  {
   "cell_type": "code",
   "execution_count": 22,
   "metadata": {},
   "outputs": [],
   "source": [
    "import SimpleITK as sitk\n",
    "import os\n",
    "import pandas as pd"
   ]
  },
  {
   "cell_type": "code",
   "execution_count": 23,
   "metadata": {},
   "outputs": [],
   "source": [
    "class Subject(object):\n",
    "    def __init__(self, identifier, t1, t2, seg, fcsv):\n",
    "        fcsv[1] = -fcsv[1]\n",
    "        fcsv[1] = -fcsv[1]\n",
    "        self.identifier = identifier\n",
    "        self.t1 = t1 # sitk.Image()\n",
    "        self.t2 = t2 # sitk.Image()\n",
    "        self.seg = seg # sitk.Image()\n",
    "        self.RE = fcsv.loc[fcsv[0] == 'RE'].values[0][1:4] # physical point 3-tuple of right eye\n",
    "        self.LE = fcsv.loc[fcsv[0] == 'LE'].values[0][1:4] # physical point 3-tuple of left eye"
   ]
  },
  {
   "cell_type": "code",
   "execution_count": 24,
   "metadata": {},
   "outputs": [],
   "source": [
    "def get_subject_list(directory:str):\n",
    "    subjects = set()\n",
    "    for file in os.listdir(directory):\n",
    "        path = os.path.join(directory, file)\n",
    "        if os.path.isfile(path):\n",
    "            subjects.add(file[:10])\n",
    "    return list(subjects)"
   ]
  },
  {
   "cell_type": "code",
   "execution_count": 25,
   "metadata": {},
   "outputs": [],
   "source": [
    "def get_subject(identifier:str, directory:str):\n",
    "    reader = sitk.ImageFileReader()\n",
    "    reader.SetFileName(os.path.join(directory, f'{identifier}_t1w.nii.gz'))\n",
    "    t1=reader.Execute()\n",
    "    reader.SetFileName(os.path.join(directory, f'{identifier}_t2w.nii.gz'))\n",
    "    t2=reader.Execute()\n",
    "    reader.SetFileName(os.path.join(directory, f'{identifier}_seg.nii.gz'))\n",
    "    seg=reader.Execute()\n",
    "    fcsv=pd.read_csv(os.path.join(directory, f'{identifier}.fcsv'), comment='#', header=None)\n",
    "    return Subject(identifier=identifier, t1=t1,t2=t2,seg=seg,fcsv=fcsv)  "
   ]
  }
 ],
 "metadata": {
  "kernelspec": {
   "display_name": "Python 3",
   "language": "python",
   "name": "python3"
  },
  "language_info": {
   "codemirror_mode": {
    "name": "ipython",
    "version": 3
   },
   "file_extension": ".py",
   "mimetype": "text/x-python",
   "name": "python",
   "nbconvert_exporter": "python",
   "pygments_lexer": "ipython3",
   "version": "3.7.0"
  }
 },
 "nbformat": 4,
 "nbformat_minor": 2
}
