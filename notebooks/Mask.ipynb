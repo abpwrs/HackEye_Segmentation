{
 "cells": [
  {
   "cell_type": "code",
   "execution_count": 11,
   "metadata": {},
   "outputs": [],
   "source": [
    "import SimpleITK as sitk"
   ]
  },
  {
   "cell_type": "code",
   "execution_count": 12,
   "metadata": {},
   "outputs": [],
   "source": [
    "def gen_mask(subject, eye_segmentation_mask, t1_threshold, t2_threshold):\n",
    "    brain_mask = (subject.seg>0)*3\n",
    "    t2_mask = (subject.t2 > t2_threshold)\n",
    "    t1_mask = (subject.t1 < t1_threshold)\n",
    "    eye_segmentation_mask = eye_segmentation_mask * t1_mask * t2_mask\n",
    "    return eye_segmentation_mask + brain_mask"
   ]
  },
  {
   "cell_type": "code",
   "execution_count": 13,
   "metadata": {},
   "outputs": [],
   "source": [
    "def closure_function(mask):\n",
    "    dilated = sitk.BinaryDilate(mask,3)\n",
    "    return sitk.BinaryErode(dilated,3) "
   ]
  },
  {
   "cell_type": "code",
   "execution_count": null,
   "metadata": {},
   "outputs": [],
   "source": [
    "path='/Volumes/easystore/PHD_NIFTI_NET_CONFIG/images/'"
   ]
  }
 ],
 "metadata": {
  "kernelspec": {
   "display_name": "Python 3",
   "language": "python",
   "name": "python3"
  },
  "language_info": {
   "codemirror_mode": {
    "name": "ipython",
    "version": 3
   },
   "file_extension": ".py",
   "mimetype": "text/x-python",
   "name": "python",
   "nbconvert_exporter": "python",
   "pygments_lexer": "ipython3",
   "version": "3.7.0"
  }
 },
 "nbformat": 4,
 "nbformat_minor": 2
}
