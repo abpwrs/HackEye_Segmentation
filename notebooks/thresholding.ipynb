{
 "cells": [
  {
   "cell_type": "code",
   "execution_count": 1,
   "metadata": {},
   "outputs": [],
   "source": [
    "import SimpleITK as sitk"
   ]
  },
  {
   "cell_type": "code",
   "execution_count": 7,
   "metadata": {},
   "outputs": [],
   "source": [
    "def create_spherical_mask(subject):\n",
    "    # Get the voxel from the physical space point\n",
    "    LE_voxel = sitk.TransformPhysicalPointToIndex(subject.LE)\n",
    "    RE_voxel = sitk.TransformPhysicalPointToIndex(subject.RE)  \n",
    "    \n",
    "    # Eye diameter across vertically approx 18-19 mm\n",
    "    # Eye diameter across horizontally approx 20 mm\n",
    "    mask = subject.T1*0   # Create mask of image size\n",
    "    mask[LE_voxel] = 1    # Set center of eye to 1\n",
    "    dilated_image_LE = sitk.BinaryDilate(mask,radius = 10,kernel = sitk.sitkBall)  # Create 'sphere' for eye, r=10\n",
    "    mask = subject.T1*0   # Repeat\n",
    "    mask[RE_voxel] = 1\n",
    "    dilated_image_RE = sitk.BinaryDilate(mask,radius = 10, kernel = sitk.sitkBall) # binary image\n",
    "    mask_LE_RE = (dilated_image_LE, dilated_image_RE)\n",
    "\n",
    "    return mask_LE_RE"
   ]
  },
  {
   "cell_type": "code",
   "execution_count": 1,
   "metadata": {},
   "outputs": [],
   "source": [
    "def get_thresholds(subject,mask_LE_RE):\n",
    "    # Get the threshold by multiplying the image by left and right eye masks\n",
    "    T1_threshold = sitk.StatisticsImageFilter.execute(subject.T1*mask_LE_RE[0] + subject.T1*mask_LE_RE[1]).getMean()\n",
    "    T2_threshold = sitk.StatisticsImageFilter.execute(subject.T2*mask_LE_RE[0] + subject.T2*mask_LE_RE[1]).getMean()\n",
    "    return (T1_threshold, T2_threshold)"
   ]
  },
  {
   "cell_type": "code",
   "execution_count": 2,
   "metadata": {},
   "outputs": [],
   "source": [
    "# Uses a spherical shape to create left eye and right eye masks w/ scaling\n",
    "# 1 times LE and 2 times RE\n",
    "def getTotalMask(subject):\n",
    "    mask_LE_RE = create_spherical_mask(subject)\n",
    "    return mask_LE_RE[0]*1 + mask_LE_RE[1]*2"
   ]
  },
  {
   "cell_type": "code",
   "execution_count": null,
   "metadata": {},
   "outputs": [],
   "source": []
  }
 ],
 "metadata": {
  "kernelspec": {
   "display_name": "Python 3",
   "language": "python",
   "name": "python3"
  },
  "language_info": {
   "codemirror_mode": {
    "name": "ipython",
    "version": 3
   },
   "file_extension": ".py",
   "mimetype": "text/x-python",
   "name": "python",
   "nbconvert_exporter": "python",
   "pygments_lexer": "ipython3",
   "version": "3.7.0"
  }
 },
 "nbformat": 4,
 "nbformat_minor": 2
}
